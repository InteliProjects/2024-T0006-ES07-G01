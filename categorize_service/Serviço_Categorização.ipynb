{
  "nbformat": 4,
  "nbformat_minor": 0,
  "metadata": {
    "colab": {
      "provenance": [],
      "toc_visible": true
    },
    "kernelspec": {
      "name": "python3",
      "display_name": "Python 3"
    },
    "language_info": {
      "name": "python"
    }
  },
  "cells": [
    {
      "cell_type": "markdown",
      "source": [
        "# Introdução\n",
        "\n",
        "O algoritmo a seguir é do serviço de categorização da nossa plataforma, sendo um dos 4 serviços que temos (transcrição de aúdio em texto, criação de tags, categorização e resumo). Nele temos as fases de leitura de arquivos txt, tokenização, padronização em minúsculas, remoção de stop words, criação de dicionários com palavras chaves, contabilização de palavras-chaves e atribuição de categoria. Após a chamada da função main(), o retornado esperado é a categoria do vídeo em questão.\n",
        "\n",
        "Para a Sprint 1 usaremos um trecho do podcast dos sócios ligados a tecnologia, chamado 'PROFISSÕES que serão SUBSTITUÍDAS por INTELIGÊNCIA ARTIFICAL | Os Sócios 120' e esperamos o retorno da categorização como 'Tecnologia'. A transcrição do vídeo foi feita pelo próprio youtube para uma maior assertividade.\n",
        "\n",
        "Em outras sprints usaremos os aúdios transcritos dentro dos nossos serviços e com vídeos da Sambatech.\n",
        "\n",
        "O link para o vídeo é o seguinte:\n",
        "\n",
        "https://www.youtube.com/watch?v=Fen8aVyP32A\n"
      ],
      "metadata": {
        "id": "_Fu2xTbkJ8Yl"
      }
    },
    {
      "cell_type": "markdown",
      "source": [
        "# Código"
      ],
      "metadata": {
        "id": "5NxJZkSNSK3V"
      }
    },
    {
      "cell_type": "markdown",
      "source": [
        "## Setup\n",
        "\n"
      ],
      "metadata": {
        "id": "3CJsBYWjGeom"
      }
    },
    {
      "cell_type": "code",
      "source": [
        "import nltk\n",
        "from nltk import tokenize\n",
        "import pandas as pd\n",
        "import numpy\n",
        "import re"
      ],
      "metadata": {
        "id": "AiNjMKBnGlpi"
      },
      "execution_count": null,
      "outputs": []
    },
    {
      "cell_type": "markdown",
      "source": [
        "## Definição de Funções\n"
      ],
      "metadata": {
        "id": "kaThzXDIG3t8"
      }
    },
    {
      "cell_type": "code",
      "source": [
        "def ler_arquivo(nome_arquivo):\n",
        "    try:\n",
        "        with open(nome_arquivo, 'r') as arquivo:\n",
        "            linhas = arquivo.readlines()  # Lê todas as linhas do arquivo\n",
        "            linhas_sem_linhas_em_branco = [linha.strip() for linha in linhas if linha.strip()]  # Remove linhas em branco\n",
        "            conteudo = '\\n'.join(linhas_sem_linhas_em_branco)  # Junta as linhas sem linhas em branco\n",
        "        return conteudo\n",
        "    except FileNotFoundError:\n",
        "        print(f\"O arquivo '{nome_arquivo}' não foi encontrado.\")\n",
        "\n",
        "nltk.download('punkt')\n",
        "nltk.download('stopwords')\n",
        "stopwords = nltk.corpus.stopwords.words('portuguese')\n",
        "\n",
        "\n",
        "def tokenize_a_text(text):\n",
        "  words = tokenize.word_tokenize(text, language='portuguese')\n",
        "  return words\n",
        "\n",
        "def remove_stop_words(words):\n",
        "  stopwords = nltk.corpus.stopwords.words('portuguese')\n",
        "  words_filtered = []\n",
        "  for word in words:\n",
        "    if word not in stopwords:\n",
        "        words_filtered.append(word)\n",
        "  return words_filtered\n",
        "\n",
        "def lowercase_tokens(tokens):\n",
        "    new_tokens = []\n",
        "    for token in tokens:\n",
        "        if isinstance(token, str):\n",
        "            new_tokens.append(token.lower())\n",
        "        else:  # Se for um \"token\" com múltiplas palavras\n",
        "            print(\"token multiplo lower_case\", token)\n",
        "            new_words = [sub_word.lower() for sub_word in token]\n",
        "            new_tokens.extend(new_words)\n",
        "    return new_tokens\n",
        "\n",
        "\n",
        "def pipeline_pre_processing (text):\n",
        "  tokenize_text = tokenize_a_text(text)\n",
        "  lowercase_text = lowercase_tokens(tokenize_text)\n",
        "  filtered_text = remove_stop_words(lowercase_text)\n",
        "\n",
        "  return filtered_text\n",
        "\n",
        "def contabiliza_palavras(df, coluna):\n",
        "    for indice, linha in df.iterrows():\n",
        "        texto = linha[coluna]\n",
        "        score_tecnologia = 0\n",
        "        score_empreendedorismo = 0\n",
        "        score_vendas = 0\n",
        "        score_lideranca = 0\n",
        "        score_estrategia = 0\n",
        "\n",
        "        for palavra in texto:\n",
        "            if palavra in palavras_tecnologia:\n",
        "                score_tecnologia += 1\n",
        "            if palavra in palavras_empreendedorismo:\n",
        "                score_empreendedorismo += 1\n",
        "            if palavra in palavras_vendas:\n",
        "                score_vendas += 1\n",
        "            if palavra in palavras_lideranca:\n",
        "                score_lideranca += 1\n",
        "            if palavra in palavras_estrategia:\n",
        "                score_estrategia += 1\n",
        "\n",
        "        df.at[indice, 'score_tecnologia'] = score_tecnologia\n",
        "        df.at[indice, 'score_empreendedorismo'] = score_empreendedorismo\n",
        "        df.at[indice, 'score_vendas'] = score_vendas\n",
        "        df.at[indice, 'score_lideranca'] = score_lideranca\n",
        "        df.at[indice, 'score_estrategia'] = score_estrategia\n",
        "\n",
        "    return df\n",
        "\n",
        "def atribui_categoria(df):\n",
        "  for indice, linha in df.iterrows():\n",
        "      categorias = ['tecnologia', 'empreendedorismo', 'vendas', 'lideranca', 'estrategia']\n",
        "      scores = [linha['score_tecnologia'], linha['score_empreendedorismo'], linha['score_vendas'],\n",
        "                linha['score_lideranca'], linha['score_estrategia']]\n",
        "      maior_score = max(scores)\n",
        "      indice_maior_score = scores.index(maior_score)\n",
        "      categoria = categorias[indice_maior_score]\n",
        "      df.at[indice, 'category'] = categoria\n",
        "  return df"
      ],
      "metadata": {
        "colab": {
          "base_uri": "https://localhost:8080/"
        },
        "id": "nWKmh3BMG-ph",
        "outputId": "9cd3926e-6283-44a0-9d9f-311f26342d81"
      },
      "execution_count": null,
      "outputs": [
        {
          "output_type": "stream",
          "name": "stderr",
          "text": [
            "[nltk_data] Downloading package punkt to /root/nltk_data...\n",
            "[nltk_data]   Package punkt is already up-to-date!\n",
            "[nltk_data] Downloading package stopwords to /root/nltk_data...\n",
            "[nltk_data]   Package stopwords is already up-to-date!\n"
          ]
        }
      ]
    },
    {
      "cell_type": "markdown",
      "source": [
        "# Testes da Função\n"
      ],
      "metadata": {
        "id": "b3cr0t3kP1aZ"
      }
    },
    {
      "cell_type": "markdown",
      "source": [
        "## 1.1 Leitura de Arquivos .txt"
      ],
      "metadata": {
        "id": "TsIf3TYTWmP7"
      }
    },
    {
      "cell_type": "code",
      "source": [
        "expected_outcome ='Esse texto foi transcrito'\n",
        "nome_do_arquivo = '/content/sample_data/testetxt.txt'  # Nome do arquivo que você quer ler\n",
        "texto = ler_arquivo(nome_do_arquivo)\n",
        "print(texto == expected_outcome)"
      ],
      "metadata": {
        "colab": {
          "base_uri": "https://localhost:8080/"
        },
        "id": "fLKmGTBIVfEt",
        "outputId": "ba85a892-67c0-4065-e087-22a242f9c3b3"
      },
      "execution_count": null,
      "outputs": [
        {
          "output_type": "stream",
          "name": "stdout",
          "text": [
            "True\n"
          ]
        }
      ]
    },
    {
      "cell_type": "markdown",
      "source": [
        "## 1.2 Tokenização"
      ],
      "metadata": {
        "id": "2sY6kpEQXIGj"
      }
    },
    {
      "cell_type": "code",
      "source": [
        "text = \"O Inteli é excelente\"\n",
        "\n",
        "words = tokenize_a_text(text)\n",
        "\n",
        "expected_outcome = ['O', 'Inteli', 'é', 'excelente']\n",
        "\n",
        "print(words == expected_outcome)"
      ],
      "metadata": {
        "colab": {
          "base_uri": "https://localhost:8080/"
        },
        "id": "hQZfZ3sSTTOA",
        "outputId": "764430de-4b1e-4996-b092-dc1b17b36ea7"
      },
      "execution_count": null,
      "outputs": [
        {
          "output_type": "stream",
          "name": "stdout",
          "text": [
            "True\n"
          ]
        }
      ]
    },
    {
      "cell_type": "markdown",
      "source": [
        "## 1.3 Remoção Stop Words"
      ],
      "metadata": {
        "id": "VL8ImCWNXdPa"
      }
    },
    {
      "cell_type": "code",
      "source": [
        "tokens = ['O', 'Inteli', 'é', 'excelente']\n",
        "\n",
        "text_filtered = remove_stop_words(tokens)\n",
        "\n",
        "expected_outcome = ['O', 'Inteli', 'excelente']\n",
        "\n",
        "print(text_filtered == expected_outcome)"
      ],
      "metadata": {
        "colab": {
          "base_uri": "https://localhost:8080/"
        },
        "id": "0e0YMm3fYbtJ",
        "outputId": "adedc832-8e4a-4254-90a8-4be5393f9076"
      },
      "execution_count": null,
      "outputs": [
        {
          "output_type": "stream",
          "name": "stdout",
          "text": [
            "True\n"
          ]
        }
      ]
    },
    {
      "cell_type": "markdown",
      "source": [
        "## 1.4 Padronização em Minúsculas"
      ],
      "metadata": {
        "id": "1tOIL1OrXeua"
      }
    },
    {
      "cell_type": "code",
      "source": [
        "tokens = ['O', 'Inteli', 'é', 'excelente']\n",
        "\n",
        "lower_text = lowercase_tokens(tokens)\n",
        "\n",
        "expected_outcome = ['o', 'inteli', 'é', 'excelente']\n",
        "\n",
        "print(lower_text == expected_outcome)"
      ],
      "metadata": {
        "colab": {
          "base_uri": "https://localhost:8080/"
        },
        "id": "ftsjJHJuaEpk",
        "outputId": "757aeb58-0443-42bd-c37b-5bed0e28d086"
      },
      "execution_count": null,
      "outputs": [
        {
          "output_type": "stream",
          "name": "stdout",
          "text": [
            "True\n"
          ]
        }
      ]
    },
    {
      "cell_type": "markdown",
      "source": [
        "## 1.5 Contabiliza Palavras"
      ],
      "metadata": {
        "id": "KX-FUHMxbT9y"
      }
    },
    {
      "cell_type": "code",
      "source": [
        "# O category como false não significa que o teste não teve sucesso por que ele é agnóstico a função e deve retornar false\n",
        "\n",
        "filtered_text_test = [\"liderança\",    \"equipe\",    \"motivação\",    \"gestão\",    \"inovação\",    \"cultura\",    \"empreendedorismo\",    \"start-up\",    \"investimento\",    \"modelo de negócio\",    \"marketing\",    \"crescimento\",    \"sustentabilidade\",    \"software\",    \"hardware\",    \"inteligência artificial\",    \"machine learning\",    \"blockchain\",    \"realidade virtual\",    \"robótica\",    \"automação\",    \"dados\",    \"cybersegurança\",    \"cloud computing\",    \"iot\",    \"internet das coisas\",    \"aplicativo\",    \"tecnologia\",    \"digital\"]\n",
        "\n",
        "df = pd.DataFrame(columns=['filtered_text','score_tecnologia','score_empreendedorismo','score_estrategia','score_vendas','score_lideranca','category'])\n",
        "df.loc[0,'filtered_text'] = filtered_text_test\n",
        "\n",
        "df_expected_outcome = df\n",
        "df_expected_outcome.loc[0, ['score_tecnologia','score_empreendedorismo','score_estrategia','score_vendas','score_lideranca']] = [17,2,0,0,5]\n",
        "\n",
        "\n",
        "df_response = df\n",
        "df_response = contabiliza_palavras(df_response, 'filtered_text')\n",
        "print(df_response == df_expected_outcome)"
      ],
      "metadata": {
        "colab": {
          "base_uri": "https://localhost:8080/"
        },
        "id": "YvRN4osLbZs_",
        "outputId": "bd95cc8c-6ac4-42a0-d5a8-9456449cb600"
      },
      "execution_count": null,
      "outputs": [
        {
          "output_type": "stream",
          "name": "stdout",
          "text": [
            "   filtered_text  score_tecnologia  score_empreendedorismo  score_estrategia  \\\n",
            "0           True              True                    True              True   \n",
            "\n",
            "   score_vendas  score_lideranca  category  \n",
            "0          True             True     False  \n"
          ]
        }
      ]
    },
    {
      "cell_type": "markdown",
      "source": [
        "## 1.6 Atribui Categoria"
      ],
      "metadata": {
        "id": "OcfL3pc4f7i5"
      }
    },
    {
      "cell_type": "code",
      "source": [
        "df_expected_outcome = df\n",
        "df_expected_outcome.loc[0, ['score_tecnologia','score_empreendedorismo','score_estrategia','score_vendas','score_lideranca','category']] = [17,2,0,0,5,\"Tecnologia\"]\n",
        "\n",
        "df_response = df\n",
        "df_response = atribui_categoria(df_response)\n",
        "\n",
        "print(df_response == df_expected_outcome)"
      ],
      "metadata": {
        "colab": {
          "base_uri": "https://localhost:8080/"
        },
        "id": "ifV-_5VDc3MT",
        "outputId": "85e14e84-436e-4433-e1e0-481592ba7810"
      },
      "execution_count": null,
      "outputs": [
        {
          "output_type": "stream",
          "name": "stdout",
          "text": [
            "   filtered_text  score_tecnologia  score_empreendedorismo  score_estrategia  \\\n",
            "0           True              True                    True              True   \n",
            "\n",
            "   score_vendas  score_lideranca  category  \n",
            "0          True             True      True  \n"
          ]
        }
      ]
    },
    {
      "cell_type": "markdown",
      "source": [
        "# Main"
      ],
      "metadata": {
        "id": "ppoygBA3HXWg"
      }
    },
    {
      "cell_type": "code",
      "source": [
        "# Para fins de teste, é necessário adicionar o arquivo txt no sample_data que esta no respositório do Git\n",
        "def main():\n",
        "\n",
        "  nome_do_arquivo = '/content/sample_data/OSSOCIOS.txt'\n",
        "  df = pd.DataFrame(columns=['transcription','filtered_text','score_tecnologia','score_empreededorismo','score_estrategia','score_vendas','score_lideranca','category'])\n",
        "  palavras_tecnologia =[ \"tecnologia\",   \"inovação\",    \"software\",    \"hardware\",    \"inteligência artificial\",    \"machine learning\",    \"blockchain\",    \"realidade virtual\",    \"realidade aumentada\",    \"robótica\",    \"automação\",    \"dados\",    \"algoritmo\",    \"cybersegurança\",    \"rede\",    \"cloud computing\",    \"iot\",    \"internet das coisas\",    \"desenvolvimento\",    \"aplicativo\",    \"sistema operacional banco de dados\",    \"programação\",    \"interface\",    \"usabilidade\",    \"tecnologia\",    \"5g\",    \"digital\"]\n",
        "  palavras_empreendedorismo = [    \"empreendedorismo\",    \"start-up\",    \"escalabilidade\",    \"investimento\",    \"venture\",    \"capital\",    \"pitch\",    \"modelo de negócio\",    \"empreendedor\",    \"inovação\",    \"mercado\",    \"produto\",    \"serviço\",    \"cliente\",    \"parceria\",    \"lucro\",    \"receita\",    \"competição\",    \"branding\",    \"marketing\",    \"crescimento\",    \"sustentabilidade\",    \"empreender\",    \"networking\",    \"incubadora\",    \"aceleradora\",    \"mvp\"]\n",
        "  palavras_vendas = [\"vendas\",    \"negociação\",    \"conversão\",    \"cliente\",    \"produto\",    \"serviço\",    \"estratégia de vendas\",    \"funil de vendas\",    \"marketing digital\",    \"lead\",    \"crm\",    \"proposta\",    \"fechamento\",    \"objeção\",    \"desconto\",    \"meta\",    \"comissão\",    \"vendedor\",    \"prospeção\",    \"engajamento\",    \"retenção\",    \"pós-venda\",    \"fidelização\",    \"upsell\",    \"cross-sell\",    \"roi\"]\n",
        "  palavras_lideranca = [    \"liderança\",    \"líder\",    \"equipe\",    \"motivação\",    \"gestão\",    \"comunicação\",    \"visão\",    \"objetivo\",    \"feedback\",    \"desenvolvimento\",    \"empoderamento\",    \"estratégia\",    \"conflito\",    \"inovação\",    \"cultura\",    \"comprometimento\",    \"resiliência\",    \"coaching\",    \"liderança servidora\",    \"diversidade\", \"inclusão\",    \"tomada de decisão\",    \"negociação\",    \"inteligência emocional\",    \"autoridade\",    \"inspiração\"]\n",
        "  palavras_estrategia = [    \"estratégia\",    \"planejamento\",    \"objetivo\",    \"meta\",    \"análise\",    \"swot (forças, fraquezas, oportunidades, ameaças)\",    \"competitividade\",    \"mercado\",    \"inovação\",    \"crescimento\",    \"escala\",    \"diferenciação\",    \"posicionamento\",    \"execução\",    \"kpi (indicadores-chave de performance)\",    \"benchmarking\",    \"vantagem competitiva\",    \"modelo de negócio\",    \"análise de risco\",    \"gestão de mudanças\",    \"sustentabilidade\",    \"segmentação\",    \"alvo\",    \"tática\",    \"otimização\",    \"visão\"]\n",
        "\n",
        "\n",
        "  texto = ler_arquivo(nome_do_arquivo)\n",
        "  df.loc[0, 'transcription'] = texto\n",
        "  df.head()\n",
        "  filtered_text = pipeline_pre_processing(texto)\n",
        "  df['filtered_text'] = df['filtered_text'].apply(lambda x: filtered_text if pd.isna(x) else x)\n",
        "  df = contabiliza_palavras(df, 'filtered_text')\n",
        "  df = atribui_categoria(df)\n",
        "  df.head()\n",
        "  categoria = df.loc[0,'category']\n",
        "  print('Categoria:', categoria)\n",
        "\n",
        "  return categoria\n",
        "\n",
        "categoria = main()\n",
        "\n",
        "\n"
      ],
      "metadata": {
        "colab": {
          "base_uri": "https://localhost:8080/"
        },
        "id": "WDyDh6xTha_i",
        "outputId": "5b060eac-7c26-4fc7-991a-0a279b8d0fcb"
      },
      "execution_count": null,
      "outputs": [
        {
          "output_type": "stream",
          "name": "stdout",
          "text": [
            "Categoria: tecnologia\n"
          ]
        }
      ]
    }
  ]
}
